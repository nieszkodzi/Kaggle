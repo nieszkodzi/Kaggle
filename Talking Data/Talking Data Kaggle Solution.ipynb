{
 "cells": [
  {
   "cell_type": "code",
   "execution_count": 2,
   "metadata": {},
   "outputs": [],
   "source": [
    "import pandas as pd"
   ]
  },
  {
   "cell_type": "code",
   "execution_count": 3,
   "metadata": {
    "scrolled": true
   },
   "outputs": [],
   "source": [
    "sample = pd.read_csv(\"train_sample.csv/mnt/ssd/kaggle-talkingdata2/competition_files/train_sample.csv\")\n",
    "#train = pd.read_csv(\"train.csv/mnt/ssd/kaggle-talkingdata2/competition_files/train.csv\")\n",
    "#test_1 = pd.read_csv(\"test.csv\")\n",
    "#test_2 = pd.read_csv(\"test_supplement.csv\")"
   ]
  },
  {
   "cell_type": "code",
   "execution_count": 4,
   "metadata": {},
   "outputs": [
    {
     "data": {
      "text/plain": [
       "array([ 12,  25,  13,   3,   1,   9,   2,   6,  20,  14,  64,   7,  15,\n",
       "        18,  11,   8,  23,  21,  56,  28,  36,  22,  26,  17,  27,  10,\n",
       "        60,  58,  19,  32,  24,   4,  53, 125, 204,   5, 202,  70,  47,\n",
       "        29,  55, 103,  35,  83, 208, 146, 161,  46,  62,  65, 110,  42,\n",
       "       150, 266, 151, 148,  72, 310,  93,  94,  71,  43,  39, 170,  37,\n",
       "        68,  54, 107, 398, 160,  30, 183, 315,  45, 121,  38,  82, 134,\n",
       "        33, 233, 100,  44, 109,  59,  74,  61, 104,  66,  67, 273, 192,\n",
       "        50, 118, 372,  48, 232, 165,  91, 123,  88, 538,  49,  16, 105,\n",
       "       536, 216, 425, 117, 551,  99,  86, 101, 394,  78,  95, 181,  76,\n",
       "        34, 124, 548, 108,  85, 145,  79,  97,  75,  52, 215,  84,  96,\n",
       "        81, 139, 267,  80, 137, 119, 474, 158, 293, 122, 112, 149, 363,\n",
       "       271,  31, 171,  87, 168, 176, 347, 163, 190, 486, 133, 302, 268,\n",
       "       407, 116,  92, 115, 261])"
      ]
     },
     "execution_count": 4,
     "metadata": {},
     "output_type": "execute_result"
    }
   ],
   "source": [
    "sample.app.unique()"
   ]
  },
  {
   "cell_type": "code",
   "execution_count": 10,
   "metadata": {},
   "outputs": [
    {
     "ename": "SyntaxError",
     "evalue": "invalid syntax (<ipython-input-10-50ab5029bdc5>, line 1)",
     "output_type": "error",
     "traceback": [
      "\u001b[0;36m  File \u001b[0;32m\"<ipython-input-10-50ab5029bdc5>\"\u001b[0;36m, line \u001b[0;32m1\u001b[0m\n\u001b[0;31m    sample.device.groupby(by =)\u001b[0m\n\u001b[0m                              ^\u001b[0m\n\u001b[0;31mSyntaxError\u001b[0m\u001b[0;31m:\u001b[0m invalid syntax\n"
     ]
    }
   ],
   "source": [
    "sample.device"
   ]
  },
  {
   "cell_type": "code",
   "execution_count": 11,
   "metadata": {},
   "outputs": [
    {
     "name": "stdout",
     "output_type": "stream",
     "text": [
      "<class 'pandas.core.frame.DataFrame'>\n",
      "RangeIndex: 100000 entries, 0 to 99999\n",
      "Data columns (total 8 columns):\n",
      "ip                 100000 non-null int64\n",
      "app                100000 non-null int64\n",
      "device             100000 non-null int64\n",
      "os                 100000 non-null int64\n",
      "channel            100000 non-null int64\n",
      "click_time         100000 non-null object\n",
      "attributed_time    227 non-null object\n",
      "is_attributed      100000 non-null int64\n",
      "dtypes: int64(6), object(2)\n",
      "memory usage: 6.1+ MB\n"
     ]
    }
   ],
   "source": [
    "sample.info()"
   ]
  },
  {
   "cell_type": "code",
   "execution_count": null,
   "metadata": {},
   "outputs": [],
   "source": [
    "# zapisywać godziny jako punkty na okręgu\n",
    "# dane wczytywać partiami i działać partiami na nich\n",
    "# dni olać, trzymać się tylko godzin\n",
    "# attributed_time po prostu wywalić\n",
    "# można zauważyć jakie jest prawdopodobieństwo ściągięcia aplikacji w przypadku \n",
    "# połączenia kilku kategorii np. danego systemu operacyjnego i urządzenia, to nie jest bez sensu,\n",
    "#bo w ten sposób \"pomagamy\" naszemu modelowi"
   ]
  }
 ],
 "metadata": {
  "kernelspec": {
   "display_name": "Python 3",
   "language": "python",
   "name": "python3"
  },
  "language_info": {
   "codemirror_mode": {
    "name": "ipython",
    "version": 3
   },
   "file_extension": ".py",
   "mimetype": "text/x-python",
   "name": "python",
   "nbconvert_exporter": "python",
   "pygments_lexer": "ipython3",
   "version": "3.6.5"
  }
 },
 "nbformat": 4,
 "nbformat_minor": 2
}
